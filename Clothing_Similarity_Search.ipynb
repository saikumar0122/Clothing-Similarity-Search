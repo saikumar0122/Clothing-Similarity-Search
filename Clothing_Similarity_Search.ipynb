{
  "nbformat": 4,
  "nbformat_minor": 0,
  "metadata": {
    "colab": {
      "provenance": []
    },
    "kernelspec": {
      "name": "python3",
      "display_name": "Python 3"
    },
    "language_info": {
      "name": "python"
    }
  },
  "cells": [
    {
      "cell_type": "code",
      "execution_count": null,
      "metadata": {
        "id": "QMcFpwfdpQ4V"
      },
      "outputs": [],
      "source": [
        "# import necessary libraries\n",
        "\n",
        "import pandas as pd # To read data\n",
        "from sklearn.metrics.pairwise import cosine_similarity # This function calculates cosine similarity\n",
        "from sklearn.feature_extraction.text import TfidfVectorizer # TfidfVectorizer is a text feature extraction method that transforms text data into numerical vectors using the TF-IDF (Term Frequency-Inverse Document Frequency) weighting scheme."
      ]
    },
    {
      "cell_type": "code",
      "source": [
        "data = pd.read_csv('dataset.csv') # Read dataset as pandas dataframe.\n",
        "\n",
        "data.head() # print first 5 entries of dataframe."
      ],
      "metadata": {
        "id": "lxWfSopfp4O3"
      },
      "execution_count": null,
      "outputs": []
    },
    {
      "cell_type": "code",
      "source": [
        "vectorizer = TfidfVectorizer() # This creates an instance of the TfidfVectorizer class from scikit-learn. \n",
        "item_names = data['Item'].tolist() # This retrieves the values from the 'Item' column of the 'data' DataFrame and converts them into a Python list.\n",
        "vectorizer.fit(item_names) # This fits the TfidfVectorizer on the item names data. It analyzes the item names to learn the vocabulary and calculates the IDF (Inverse Document Frequency) weights.\n",
        "item_name_vectors = vectorizer.transform(item_names) # This transforms the item names into TF-IDF vectors using the previously fitted vectorizer. Each item name is represented as a numerical vector based on its TF-IDF values.\n",
        "similarity_matrix = cosine_similarity(item_name_vectors) # This computes the cosine similarity between the item name vectors. The cosine_similarity function calculates the pairwise cosine similarity between all item name vectors, resulting in a similarity matrix."
      ],
      "metadata": {
        "id": "L1gIM9czqDtL"
      },
      "execution_count": null,
      "outputs": []
    },
    {
      "cell_type": "code",
      "source": [
        "# Function to show relevant products \n",
        "\n",
        "def cloth_predict(query, n=5):\n",
        "  item_names = data['Item'].tolist() # This retrieves the values from the 'Item' column of the 'data' DataFrame and converts them into a Python list.\n",
        "  query_vector = vectorizer.transform([query]) # Here, the vectorizer object transforms the query (a text describing a clothing item) into a TF-IDF vector using the transform() method.\n",
        "  query_similarity = cosine_similarity(query_vector, vectorizer.transform(item_names)) # This calculates the cosine similarity between the query_vector and the TF-IDF vectors of all the item names in your dataset using cosine_similarity fucntion.\n",
        "  top_indices = query_similarity.argsort()[0][-n:][::-1] # This line gives top n relevant products.\n",
        "  similar_items = data.iloc[top_indices] # Selecting rows of relevant products using top_indices.\n",
        "  similar_items = similar_items['URL'] # selecting URL's of top n products\n",
        "\n",
        "  # printing top 5 suggestions.\n",
        "\n",
        "  print(\"Top 5 suggestions are\")\n",
        "  ind = 1\n",
        "  for i in similar_items:\n",
        "    print(ind, \":\", i)\n",
        "    ind+=1"
      ],
      "metadata": {
        "id": "I6lGc9reryqi"
      },
      "execution_count": null,
      "outputs": []
    }
  ]
}