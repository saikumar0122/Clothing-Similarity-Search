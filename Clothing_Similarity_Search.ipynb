{
  "nbformat": 4,
  "nbformat_minor": 0,
  "metadata": {
    "colab": {
      "provenance": []
    },
    "kernelspec": {
      "name": "python3",
      "display_name": "Python 3"
    },
    "language_info": {
      "name": "python"
    }
  },
  "cells": [
    {
      "cell_type": "code",
      "execution_count": 1,
      "metadata": {
        "id": "QMcFpwfdpQ4V"
      },
      "outputs": [],
      "source": [
        "# import necessary libraries\n",
        "\n",
        "import pandas as pd # To read data\n",
        "from sklearn.metrics.pairwise import cosine_similarity # This function calculates cosine similarity\n",
        "from sklearn.feature_extraction.text import TfidfVectorizer # TfidfVectorizer is a text feature extraction method that transforms text data into numerical vectors using the TF-IDF (Term Frequency-Inverse Document Frequency) weighting scheme."
      ]
    },
    {
      "cell_type": "code",
      "source": [
        "data = pd.read_csv('dataset.csv') # Read dataset as pandas dataframe.\n",
        "\n",
        "data.head() # print first 5 entries of dataframe."
      ],
      "metadata": {
        "colab": {
          "base_uri": "https://localhost:8080/",
          "height": 206
        },
        "id": "lxWfSopfp4O3",
        "outputId": "63dee31b-3953-452c-81f9-e4f98da98508"
      },
      "execution_count": 2,
      "outputs": [
        {
          "output_type": "execute_result",
          "data": {
            "text/plain": [
              "   Position                                                URL  \\\n",
              "0         1  https://assets.ajio.com/medias/sys_master/root...   \n",
              "1         2  https://assets.ajio.com/medias/sys_master/root...   \n",
              "2         3  https://assets.ajio.com/medias/sys_master/root...   \n",
              "3         4  https://assets.ajio.com/medias/sys_master/root...   \n",
              "4         5  https://assets.ajio.com/medias/sys_master/root...   \n",
              "\n",
              "                                       Item  \n",
              "0  GUFRINA Floral Tunic with Bishop Sleeves  \n",
              "1                        Pannkh Novelty Top  \n",
              "2      HAWT Floral Embroidered V-Neck Tunic  \n",
              "3         Ives Floral Print Button-Down Top  \n",
              "4     HAWT Flared Top with Embroidered Yoke  "
            ],
            "text/html": [
              "\n",
              "  <div id=\"df-e6393624-8b2b-4c8a-a260-049ca0d38f36\">\n",
              "    <div class=\"colab-df-container\">\n",
              "      <div>\n",
              "<style scoped>\n",
              "    .dataframe tbody tr th:only-of-type {\n",
              "        vertical-align: middle;\n",
              "    }\n",
              "\n",
              "    .dataframe tbody tr th {\n",
              "        vertical-align: top;\n",
              "    }\n",
              "\n",
              "    .dataframe thead th {\n",
              "        text-align: right;\n",
              "    }\n",
              "</style>\n",
              "<table border=\"1\" class=\"dataframe\">\n",
              "  <thead>\n",
              "    <tr style=\"text-align: right;\">\n",
              "      <th></th>\n",
              "      <th>Position</th>\n",
              "      <th>URL</th>\n",
              "      <th>Item</th>\n",
              "    </tr>\n",
              "  </thead>\n",
              "  <tbody>\n",
              "    <tr>\n",
              "      <th>0</th>\n",
              "      <td>1</td>\n",
              "      <td>https://assets.ajio.com/medias/sys_master/root...</td>\n",
              "      <td>GUFRINA Floral Tunic with Bishop Sleeves</td>\n",
              "    </tr>\n",
              "    <tr>\n",
              "      <th>1</th>\n",
              "      <td>2</td>\n",
              "      <td>https://assets.ajio.com/medias/sys_master/root...</td>\n",
              "      <td>Pannkh Novelty Top</td>\n",
              "    </tr>\n",
              "    <tr>\n",
              "      <th>2</th>\n",
              "      <td>3</td>\n",
              "      <td>https://assets.ajio.com/medias/sys_master/root...</td>\n",
              "      <td>HAWT Floral Embroidered V-Neck Tunic</td>\n",
              "    </tr>\n",
              "    <tr>\n",
              "      <th>3</th>\n",
              "      <td>4</td>\n",
              "      <td>https://assets.ajio.com/medias/sys_master/root...</td>\n",
              "      <td>Ives Floral Print Button-Down Top</td>\n",
              "    </tr>\n",
              "    <tr>\n",
              "      <th>4</th>\n",
              "      <td>5</td>\n",
              "      <td>https://assets.ajio.com/medias/sys_master/root...</td>\n",
              "      <td>HAWT Flared Top with Embroidered Yoke</td>\n",
              "    </tr>\n",
              "  </tbody>\n",
              "</table>\n",
              "</div>\n",
              "      <button class=\"colab-df-convert\" onclick=\"convertToInteractive('df-e6393624-8b2b-4c8a-a260-049ca0d38f36')\"\n",
              "              title=\"Convert this dataframe to an interactive table.\"\n",
              "              style=\"display:none;\">\n",
              "        \n",
              "  <svg xmlns=\"http://www.w3.org/2000/svg\" height=\"24px\"viewBox=\"0 0 24 24\"\n",
              "       width=\"24px\">\n",
              "    <path d=\"M0 0h24v24H0V0z\" fill=\"none\"/>\n",
              "    <path d=\"M18.56 5.44l.94 2.06.94-2.06 2.06-.94-2.06-.94-.94-2.06-.94 2.06-2.06.94zm-11 1L8.5 8.5l.94-2.06 2.06-.94-2.06-.94L8.5 2.5l-.94 2.06-2.06.94zm10 10l.94 2.06.94-2.06 2.06-.94-2.06-.94-.94-2.06-.94 2.06-2.06.94z\"/><path d=\"M17.41 7.96l-1.37-1.37c-.4-.4-.92-.59-1.43-.59-.52 0-1.04.2-1.43.59L10.3 9.45l-7.72 7.72c-.78.78-.78 2.05 0 2.83L4 21.41c.39.39.9.59 1.41.59.51 0 1.02-.2 1.41-.59l7.78-7.78 2.81-2.81c.8-.78.8-2.07 0-2.86zM5.41 20L4 18.59l7.72-7.72 1.47 1.35L5.41 20z\"/>\n",
              "  </svg>\n",
              "      </button>\n",
              "      \n",
              "  <style>\n",
              "    .colab-df-container {\n",
              "      display:flex;\n",
              "      flex-wrap:wrap;\n",
              "      gap: 12px;\n",
              "    }\n",
              "\n",
              "    .colab-df-convert {\n",
              "      background-color: #E8F0FE;\n",
              "      border: none;\n",
              "      border-radius: 50%;\n",
              "      cursor: pointer;\n",
              "      display: none;\n",
              "      fill: #1967D2;\n",
              "      height: 32px;\n",
              "      padding: 0 0 0 0;\n",
              "      width: 32px;\n",
              "    }\n",
              "\n",
              "    .colab-df-convert:hover {\n",
              "      background-color: #E2EBFA;\n",
              "      box-shadow: 0px 1px 2px rgba(60, 64, 67, 0.3), 0px 1px 3px 1px rgba(60, 64, 67, 0.15);\n",
              "      fill: #174EA6;\n",
              "    }\n",
              "\n",
              "    [theme=dark] .colab-df-convert {\n",
              "      background-color: #3B4455;\n",
              "      fill: #D2E3FC;\n",
              "    }\n",
              "\n",
              "    [theme=dark] .colab-df-convert:hover {\n",
              "      background-color: #434B5C;\n",
              "      box-shadow: 0px 1px 3px 1px rgba(0, 0, 0, 0.15);\n",
              "      filter: drop-shadow(0px 1px 2px rgba(0, 0, 0, 0.3));\n",
              "      fill: #FFFFFF;\n",
              "    }\n",
              "  </style>\n",
              "\n",
              "      <script>\n",
              "        const buttonEl =\n",
              "          document.querySelector('#df-e6393624-8b2b-4c8a-a260-049ca0d38f36 button.colab-df-convert');\n",
              "        buttonEl.style.display =\n",
              "          google.colab.kernel.accessAllowed ? 'block' : 'none';\n",
              "\n",
              "        async function convertToInteractive(key) {\n",
              "          const element = document.querySelector('#df-e6393624-8b2b-4c8a-a260-049ca0d38f36');\n",
              "          const dataTable =\n",
              "            await google.colab.kernel.invokeFunction('convertToInteractive',\n",
              "                                                     [key], {});\n",
              "          if (!dataTable) return;\n",
              "\n",
              "          const docLinkHtml = 'Like what you see? Visit the ' +\n",
              "            '<a target=\"_blank\" href=https://colab.research.google.com/notebooks/data_table.ipynb>data table notebook</a>'\n",
              "            + ' to learn more about interactive tables.';\n",
              "          element.innerHTML = '';\n",
              "          dataTable['output_type'] = 'display_data';\n",
              "          await google.colab.output.renderOutput(dataTable, element);\n",
              "          const docLink = document.createElement('div');\n",
              "          docLink.innerHTML = docLinkHtml;\n",
              "          element.appendChild(docLink);\n",
              "        }\n",
              "      </script>\n",
              "    </div>\n",
              "  </div>\n",
              "  "
            ]
          },
          "metadata": {},
          "execution_count": 2
        }
      ]
    },
    {
      "cell_type": "code",
      "source": [
        "vectorizer = TfidfVectorizer() # This creates an instance of the TfidfVectorizer class from scikit-learn. \n",
        "item_names = data['Item'].tolist() # This retrieves the values from the 'Item' column of the 'data' DataFrame and converts them into a Python list.\n",
        "vectorizer.fit(item_names) # This fits the TfidfVectorizer on the item names data. It analyzes the item names to learn the vocabulary and calculates the IDF (Inverse Document Frequency) weights.\n",
        "item_name_vectors = vectorizer.transform(item_names) # This transforms the item names into TF-IDF vectors using the previously fitted vectorizer. Each item name is represented as a numerical vector based on its TF-IDF values.\n",
        "similarity_matrix = cosine_similarity(item_name_vectors) # This computes the cosine similarity between the item name vectors. The cosine_similarity function calculates the pairwise cosine similarity between all item name vectors, resulting in a similarity matrix."
      ],
      "metadata": {
        "id": "L1gIM9czqDtL"
      },
      "execution_count": 3,
      "outputs": []
    },
    {
      "cell_type": "code",
      "source": [
        "# Function to show relevant products \n",
        "\n",
        "def cloth_predict(query, n=5):\n",
        "  item_names = data['Item'].tolist() # This retrieves the values from the 'Item' column of the 'data' DataFrame and converts them into a Python list.\n",
        "  query_vector = vectorizer.transform([query]) # Here, the vectorizer object transforms the query (a text describing a clothing item) into a TF-IDF vector using the transform() method.\n",
        "  query_similarity = cosine_similarity(query_vector, vectorizer.transform(item_names)) # This calculates the cosine similarity between the query_vector and the TF-IDF vectors of all the item names in your dataset using cosine_similarity fucntion.\n",
        "  top_indices = query_similarity.argsort()[0][-n:][::-1] # This line gives top n relevant products.\n",
        "  similar_items = data.iloc[top_indices] # Selecting rows of relevant products using top_indices.\n",
        "  similar_items = similar_items['URL'] # selecting URL's of top n products\n",
        "\n",
        "  # printing top 5 suggestions.\n",
        "\n",
        "  print(\"Top 5 suggestions are\")\n",
        "  ind = 1\n",
        "  for i in similar_items:\n",
        "    print(ind, \":\", i)\n",
        "    ind+=1"
      ],
      "metadata": {
        "id": "I6lGc9reryqi"
      },
      "execution_count": 4,
      "outputs": []
    },
    {
      "cell_type": "code",
      "source": [
        "query = \"Black v-neck\"\n",
        "\n",
        "cloth_predict(query)"
      ],
      "metadata": {
        "colab": {
          "base_uri": "https://localhost:8080/"
        },
        "id": "P7tYcjj1263W",
        "outputId": "7bf48ee6-bf51-42c0-88f3-c5bbfccc013e"
      },
      "execution_count": 5,
      "outputs": [
        {
          "output_type": "stream",
          "name": "stdout",
          "text": [
            "Top 5 suggestions are\n",
            "1 : https://assets.ajio.com/medias/sys_master/root/20230201/jyrV/63da0b40aeb269c651083572/fig_black_floral_print_v-neck_top.jpg\n",
            "2 : https://assets.ajio.com/medias/sys_master/root/20220719/quR6/62d6e8c6aeb26921af85c524/fig_wine_striped_v-neck_top.jpg\n",
            "3 : https://assets.ajio.com/medias/sys_master/root/20221123/IAs9/637d446ff997ddfdbd9096c5/wedani_navy_blue_floral_print_v-neck_top.jpg\n",
            "4 : https://assets.ajio.com/medias/sys_master/root/20230301/PMRG/63fe8442f997dde6f4d2b0a0/wedani_black_floral_print_v-neck_top.jpg\n",
            "5 : https://assets.ajio.com/medias/sys_master/root/20230308/OCw2/640894a9aeb26924e3af9ef4/wedani_navy_blue_floral_print_v-neck_top.jpg\n"
          ]
        }
      ]
    }
  ]
}